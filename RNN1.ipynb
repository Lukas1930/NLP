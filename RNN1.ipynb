{
 "cells": [
  {
   "cell_type": "markdown",
   "metadata": {},
   "source": [
    "### Load the dataset"
   ]
  },
  {
   "cell_type": "code",
   "execution_count": 2,
   "metadata": {},
   "outputs": [],
   "source": [
    "def read_conll_file(file_path):\n",
    "    sentences = []\n",
    "    sentence = []\n",
    "    with open(file_path, 'r', encoding='utf-8') as file:\n",
    "        for line in file:\n",
    "            line = line.strip()\n",
    "            if not line:\n",
    "                if sentence:\n",
    "                    sentences.append(sentence)\n",
    "                    sentence = []\n",
    "            elif line.startswith(\"-DOCSTART-\"):\n",
    "                continue\n",
    "            else:\n",
    "                token, pos, chunk, ner = line.split(' ')\n",
    "                sentence.append((token, ner))\n",
    "        if sentence:\n",
    "            sentences.append(sentence)\n",
    "    return sentences\n"
   ]
  },
  {
   "cell_type": "code",
   "execution_count": 3,
   "metadata": {},
   "outputs": [],
   "source": [
    "train_path = 'conll2003-ner/train.txt'\n",
    "valid_path = 'conll2003-ner/valid.txt'\n",
    "test_path = 'conll2003-ner/test.txt'\n",
    "\n",
    "train_data = read_conll_file(train_path)\n",
    "valid_data = read_conll_file(valid_path)\n",
    "test_data = read_conll_file(test_path)"
   ]
  },
  {
   "cell_type": "code",
   "execution_count": 4,
   "metadata": {},
   "outputs": [
    {
     "name": "stdout",
     "output_type": "stream",
     "text": [
      "[('EU', 'B-ORG'), ('rejects', 'O'), ('German', 'B-MISC'), ('call', 'O'), ('to', 'O'), ('boycott', 'O'), ('British', 'B-MISC'), ('lamb', 'O'), ('.', 'O')]\n"
     ]
    }
   ],
   "source": [
    "print(train_data[0])"
   ]
  },
  {
   "cell_type": "markdown",
   "metadata": {},
   "source": [
    "### Create word embeddings for the data\n",
    "\n",
    "In order to compare the models on even footing, we will use BERT-created word embeddings for all of them."
   ]
  },
  {
   "cell_type": "code",
   "execution_count": 5,
   "metadata": {},
   "outputs": [
    {
     "name": "stderr",
     "output_type": "stream",
     "text": [
      "c:\\Users\\knedl\\AppData\\Local\\Programs\\Python\\Python312\\Lib\\site-packages\\tqdm\\auto.py:21: TqdmWarning: IProgress not found. Please update jupyter and ipywidgets. See https://ipywidgets.readthedocs.io/en/stable/user_install.html\n",
      "  from .autonotebook import tqdm as notebook_tqdm\n",
      "100%|██████████| 14041/14041 [03:43<00:00, 62.88it/s]\n"
     ]
    }
   ],
   "source": [
    "from transformers import AutoTokenizer, AutoModel\n",
    "import torch\n",
    "from tqdm.auto import tqdm\n",
    "from torch.nn.utils.rnn import pad_sequence\n",
    "\n",
    "max_length = 150\n",
    "batch_size = 32  # Define your batch size\n",
    "\n",
    "padded_sentences = []\n",
    "for i in range(0, len(train_data), batch_size):\n",
    "    batch = train_data[i:i+batch_size]\n",
    "    batch_padded = [sentence + [('PAD', 'O')] * (max_length - len(sentence)) for sentence in batch]\n",
    "    padded_sentences.extend([\" \".join([token for token, tag in sentence]) for sentence in batch_padded])\n",
    "\n",
    "tokenizer = AutoTokenizer.from_pretrained('bert-base-cased', use_fast=False)\n",
    "model = AutoModel.from_pretrained('bert-base-cased')\n",
    "\n",
    "# Check if a GPU is available and move the model to GPU if it is\n",
    "DEVICE = \"cuda:0\" if torch.cuda.is_available() else \"cpu\"\n",
    "model.to(DEVICE)\n",
    "\n",
    "def get_sentence_embeddings(sentences):\n",
    "    encoded_inputs = tokenizer(sentences, return_tensors='pt', padding=True, truncation=True, max_length=max_length, is_split_into_words=True)\n",
    "    encoded_inputs = {key: value.to(DEVICE) for key, value in encoded_inputs.items()}\n",
    "    \n",
    "    with torch.no_grad():\n",
    "        outputs = model(**encoded_inputs)\n",
    "    # Instead of using just the [CLS] token, use all token embeddings\n",
    "    return outputs.last_hidden_state\n",
    "\n",
    "# Process data in batches and move to GPU in advance\n",
    "\n",
    "data_embeddings = []\n",
    "\n",
    "data_embeddings = []\n",
    "for batch_sentences in tqdm(padded_sentences):\n",
    "    batch_embeddings = get_sentence_embeddings([batch_sentences])  # Pass as a single-item list\n",
    "    data_embeddings.append(batch_embeddings)\n",
    "\n",
    "# Concatenate all batches and move to GPU\n",
    "data_embeddings = torch.cat(data_embeddings, dim=0).to(DEVICE)"
   ]
  },
  {
   "cell_type": "markdown",
   "metadata": {},
   "source": [
    "### Create character embeddings (TODO, not used yet, needs fixing)\n",
    "According to https://direct.mit.edu/tacl/article/doi/10.1162/tacl_a_00104/43361/Named-Entity-Recognition-with-Bidirectional-LSTM, they also used character embeddings"
   ]
  },
  {
   "cell_type": "code",
   "execution_count": 6,
   "metadata": {},
   "outputs": [
    {
     "name": "stderr",
     "output_type": "stream",
     "text": [
      "100%|██████████| 439/439 [00:00<00:00, 1045.80it/s]\n"
     ]
    }
   ],
   "source": [
    "import torch.nn as nn\n",
    "import torch\n",
    "import string\n",
    "\n",
    "char_set = ['<PAD>', '<UNK>'] + list(string.printable)\n",
    "char_to_idx = {char: idx for idx, char in enumerate(char_set)}\n",
    "\n",
    "embedding_dim = 25\n",
    "char_embeddings = nn.Embedding(num_embeddings=len(char_set), embedding_dim=embedding_dim)\n",
    "char_embeddings = char_embeddings.to(DEVICE)\n",
    "char_embeddings.weight.data.uniform_(-0.5, 0.5)\n",
    "\n",
    "def get_sentence_char_embeddings(sentences):\n",
    "    # Convert sentences to character indices and pad\n",
    "    batch_char_indices = [[char_to_idx.get(char, char_to_idx['<UNK>']) for char in sentence] for sentence in sentences]\n",
    "    batch_char_indices_padded = pad_sequence([torch.tensor(seq) for seq in batch_char_indices], batch_first=True, padding_value=char_to_idx['<PAD>'])\n",
    "    \n",
    "    # Move padded sequences to the same device as the model\n",
    "    batch_char_indices_padded = batch_char_indices_padded.to(DEVICE)\n",
    "    \n",
    "    # Get character embeddings\n",
    "    with torch.no_grad():\n",
    "        char_embeddings_batch = char_embeddings(batch_char_indices_padded)\n",
    "    \n",
    "    # For simplicity, let's take the mean of the character embeddings to represent the sentence\n",
    "    sentence_char_embeddings = char_embeddings_batch.mean(dim=1)\n",
    "    return sentence_char_embeddings\n",
    "\n",
    "batch_size = 32  # Define your batch size\n",
    "data_char_embeddings = []\n",
    "\n",
    "for i in tqdm(range(0, len(train_data), batch_size)):\n",
    "    batch_sentences = [\"\".join([token for token, _ in sentence]) for sentence in train_data[i:i+batch_size]]\n",
    "    batch_char_embeddings = get_sentence_char_embeddings(batch_sentences)\n",
    "    data_char_embeddings.append(batch_char_embeddings)\n",
    "\n",
    "# Concatenate all batches\n",
    "data_char_embeddings = torch.cat(data_char_embeddings, dim=0)"
   ]
  },
  {
   "cell_type": "markdown",
   "metadata": {},
   "source": [
    "### Train the RNN"
   ]
  },
  {
   "cell_type": "code",
   "execution_count": 13,
   "metadata": {},
   "outputs": [
    {
     "name": "stdout",
     "output_type": "stream",
     "text": [
      "Epoch 1, Loss: 45544.44019699097\n",
      "Epoch 2, Loss: 39099.11204910278\n",
      "Epoch 3, Loss: 36933.60237503052\n",
      "Epoch 4, Loss: 35415.18404960632\n",
      "Epoch 5, Loss: 34777.54089927673\n",
      "Epoch 6, Loss: 33819.65024185181\n",
      "Epoch 7, Loss: 33227.716468811035\n",
      "Epoch 8, Loss: 33430.36266326904\n",
      "Epoch 9, Loss: 32971.8424949646\n",
      "Epoch 10, Loss: 31661.90768814087\n"
     ]
    },
    {
     "data": {
      "text/plain": [
       "TaggerModel(\n",
       "  (rnn): RNN(768, 30, batch_first=True)\n",
       "  (fc): Linear(in_features=30, out_features=9, bias=True)\n",
       ")"
      ]
     },
     "execution_count": 13,
     "metadata": {},
     "output_type": "execute_result"
    }
   ],
   "source": [
    "from torch import nn\n",
    "import torch\n",
    "from torch.utils.data import DataLoader, TensorDataset\n",
    "torch.manual_seed(0)\n",
    "RNN_HIDDEN = 30\n",
    "BATCH_SIZE = 32\n",
    "LEARNING_RATE = 0.01\n",
    "EPOCHS = 10\n",
    "\n",
    "class TaggerModel(torch.nn.Module):\n",
    "    def __init__(self, input_size, hidden_size, output_size):\n",
    "        super(TaggerModel, self).__init__()\n",
    "        self.hidden_size = hidden_size\n",
    "        self.rnn = nn.RNN(input_size, hidden_size, batch_first=True)\n",
    "        self.fc = nn.Linear(hidden_size, output_size)\n",
    "        \n",
    "    def forward(self, inputData):\n",
    "        # x shape: (batch_size, seq_length, input_size)\n",
    "        out, _ = self.rnn(inputData)  # out shape: (batch_size, seq_length, hidden_size)\n",
    "        out = self.fc(out)    # out shape: (batch_size, seq_length, output_size)\n",
    "        return out\n",
    "\n",
    "tag_to_idx = {'O': 0, 'B-PER': 1, 'I-PER': 2, 'B-ORG': 3, 'I-ORG': 4, 'B-LOC': 5, 'I-LOC': 6, 'B-MISC': 7, 'I-MISC': 8}\n",
    "\n",
    "# Model parameters\n",
    "input_size = data_embeddings.size(2)  # Assuming data_embeddings is your input tensor\n",
    "output_size = len(tag_to_idx)  # Number of unique NER tags\n",
    "\n",
    "model = TaggerModel(input_size, RNN_HIDDEN, output_size).to(DEVICE)\n",
    "optimizer = torch.optim.Adam(model.parameters(), lr=LEARNING_RATE)\n",
    "loss_function = torch.nn.CrossEntropyLoss(ignore_index=0, reduction='sum')\n",
    "\n",
    "encoded_tags = [[tag_to_idx[tag] for token, tag in sentence] for sentence in train_data]\n",
    "max_length = data_embeddings.size(1)\n",
    "padded_tags = [tags + [tag_to_idx['O']] * (max_length - len(tags)) for tags in encoded_tags]\n",
    "tag_tensor = torch.tensor(padded_tags, dtype=torch.long)\n",
    "tag_tensor = tag_tensor.to(DEVICE)\n",
    "\n",
    "train_dataset = TensorDataset(data_embeddings, tag_tensor)\n",
    "train_loader = DataLoader(train_dataset, batch_size=BATCH_SIZE, shuffle=True)\n",
    "\n",
    "for epoch in range(EPOCHS):\n",
    "    model.train()\n",
    "    total_loss = 0\n",
    "\n",
    "    for inputs, targets in train_loader:\n",
    "        inputs, targets = inputs.to(DEVICE), targets.to(DEVICE)\n",
    "        \n",
    "        # Forward pass\n",
    "        outputs = model(inputs)\n",
    "        \n",
    "        # Reshape outputs and targets to comply with CrossEntropyLoss requirements\n",
    "        outputs = outputs.view(-1, outputs.shape[-1])  # Combined shape: (batch_size * seq_length, output_size)\n",
    "        targets = targets.view(-1)  # Combined shape: (batch_size * seq_length)\n",
    "        \n",
    "        loss = loss_function(outputs, targets)\n",
    "        \n",
    "        # Backward pass and optimization\n",
    "        optimizer.zero_grad()\n",
    "        loss.backward()\n",
    "        optimizer.step()\n",
    "\n",
    "        total_loss += loss.item()  # Aggregate the loss\n",
    "    \n",
    "    print(f\"Epoch {epoch + 1}, Loss: {total_loss}\")\n",
    "        \n",
    "# set to evaluation mode\n",
    "model.eval()"
   ]
  },
  {
   "cell_type": "code",
   "execution_count": 14,
   "metadata": {},
   "outputs": [
    {
     "name": "stdout",
     "output_type": "stream",
     "text": [
      "Test Accuracy: 0.17036489151873768\n"
     ]
    }
   ],
   "source": [
    "def evaluate_model(model, test_data, data_embeddings, tag_to_idx, max_length, batch_size=32):\n",
    "    encoded_tags = [[tag_to_idx[tag] for token, tag in sentence] for sentence in test_data]\n",
    "    \n",
    "    # Get the test data embeddings from data_embeddings\n",
    "    test_embeddings = data_embeddings[-len(test_data):].to(DEVICE)\n",
    "    \n",
    "    padded_tags = [tags + [tag_to_idx['O']] * (max_length - len(tags)) for tags in encoded_tags]\n",
    "    tag_tensor = torch.tensor(padded_tags, dtype=torch.long).to(DEVICE)\n",
    "    \n",
    "    test_dataset = TensorDataset(test_embeddings, tag_tensor)\n",
    "    test_loader = DataLoader(test_dataset, batch_size=batch_size, shuffle=False)\n",
    "    \n",
    "    model.eval()  # Set the model to evaluation mode\n",
    "\n",
    "    total_correct, total_non_pad_tokens = 0, 0\n",
    "    with torch.no_grad():\n",
    "        for inputs, targets in test_loader:\n",
    "            inputs, targets = inputs.to(DEVICE), targets.to(DEVICE)\n",
    "            outputs = model(inputs)\n",
    "            predictions = outputs.argmax(dim=2)  # Get the index of the max log-probability\n",
    "\n",
    "            # Compare predictions to true labels (ignoring padding tokens)\n",
    "            non_pad_indices = targets != tag_to_idx['O']\n",
    "            correct = (predictions[non_pad_indices] == targets[non_pad_indices]).sum().item()\n",
    "            total_correct += correct\n",
    "            total_non_pad_tokens += non_pad_indices.sum().item()\n",
    "\n",
    "    accuracy = total_correct / total_non_pad_tokens\n",
    "    return accuracy\n",
    "\n",
    "# Call the function with your model and test data\n",
    "accuracy = evaluate_model(model, test_data, data_embeddings, tag_to_idx, max_length)\n",
    "print(f'Test Accuracy: {accuracy}')"
   ]
  }
 ],
 "metadata": {
  "kernelspec": {
   "display_name": "Python 3.12.0 64-bit",
   "language": "python",
   "name": "python3"
  },
  "language_info": {
   "codemirror_mode": {
    "name": "ipython",
    "version": 3
   },
   "file_extension": ".py",
   "mimetype": "text/x-python",
   "name": "python",
   "nbconvert_exporter": "python",
   "pygments_lexer": "ipython3",
   "version": "3.12.0"
  },
  "orig_nbformat": 4,
  "vscode": {
   "interpreter": {
    "hash": "1880c8dacfd09b308b38689eac1e6672187264bf2c76b4897d3a3589d00970c2"
   }
  }
 },
 "nbformat": 4,
 "nbformat_minor": 2
}
